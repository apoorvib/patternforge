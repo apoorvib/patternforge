{
 "cells": [
  {
   "cell_type": "markdown",
   "metadata": {},
   "source": [
    "# Testing VisualizationConfig Class\n",
    "## Overview\n",
    "This notebook demonstrates comprehensive testing of the VisualizationConfig class from our technical analysis visualization library. We'll test each component systematically to ensure proper functionality.\n",
    "## Setup and Imports\n"
   ]
  },
  {
   "cell_type": "code",
   "execution_count": null,
   "metadata": {},
   "outputs": [],
   "source": [
    "import sys\n",
    "import pandas as pd\n",
    "import numpy as np\n",
    "from dataclasses import asdict\n",
    "from typing import Dict, Any\n",
    "\n",
    "# Import our visualization module\n",
    "# Assuming the module is in parent directory\n",
    "sys.path.append('..')\n",
    "from patternforge.visualization import VisualizationConfig"
   ]
  },
  {
   "cell_type": "markdown",
   "metadata": {},
   "source": [
    "## 1. Basic Initialization Tests\n",
    "Testing default initialization and custom configuration."
   ]
  },
  {
   "cell_type": "code",
   "execution_count": null,
   "metadata": {},
   "outputs": [],
   "source": [
    "def test_default_initialization():\n",
    "    \"\"\"Test VisualizationConfig initializes with default values\"\"\"\n",
    "    config = VisualizationConfig()\n",
    "    \n",
    "    # Test default values\n",
    "    print(\"Default color scheme:\", config.color_scheme)\n",
    "    print(\"Default theme:\", config.theme)\n",
    "    print(\"Default dimensions:\", config.default_height, config.default_width)\n",
    "    print(\"Default pattern opacity:\", config.pattern_opacity)\n",
    "    print(\"Default grid setting:\", config.show_grid)\n",
    "    \n",
    "    # Validate default color scheme contains required colors\n",
    "    required_colors = ['bullish', 'bearish', 'neutral', 'background', 'text']\n",
    "    missing_colors = [color for color in required_colors if color not in config.color_scheme]\n",
    "    assert not missing_colors, f\"Missing required colors: {missing_colors}\"\n",
    "\n",
    "test_default_initialization()"
   ]
  },
  {
   "cell_type": "markdown",
   "metadata": {},
   "source": [
    "## 2. Custom Color Scheme Tests\n",
    "Testing custom color scheme initialization and validation."
   ]
  },
  {
   "cell_type": "code",
   "execution_count": null,
   "metadata": {},
   "outputs": [],
   "source": [
    "def test_custom_color_scheme():\n",
    "    \"\"\"Test custom color scheme initialization\"\"\"\n",
    "    custom_colors = {\n",
    "        'bullish': '#00ff00',  # Green\n",
    "        'bearish': '#ff0000',  # Red\n",
    "        'neutral': '#0000ff',  # Blue\n",
    "        'complex': '#800080',  # Purple\n",
    "        'background': '#ffffff',  # White\n",
    "        'text': '#000000'  # Black\n",
    "    }\n",
    "    \n",
    "    config = VisualizationConfig(color_scheme=custom_colors)\n",
    "    \n",
    "    # Verify custom colors were set correctly\n",
    "    for color_name, color_value in custom_colors.items():\n",
    "        assert config.color_scheme[color_name] == color_value, \\\n",
    "            f\"Color {color_name} not set correctly\"\n",
    "    \n",
    "    print(\"Custom color scheme test passed!\")\n",
    "\n",
    "test_custom_color_scheme()"
   ]
  },
  {
   "cell_type": "markdown",
   "metadata": {},
   "source": [
    "## 3. Theme Update Tests\n",
    "Testing theme updating functionality.\n"
   ]
  },
  {
   "cell_type": "code",
   "execution_count": null,
   "metadata": {},
   "outputs": [],
   "source": [
    "def test_theme_updates():\n",
    "    \"\"\"Test theme updating functionality\"\"\"\n",
    "    config = VisualizationConfig()\n",
    "    \n",
    "    # Test different themes\n",
    "    themes_to_test = ['plotly_white', 'plotly_dark', 'seaborn']\n",
    "    \n",
    "    for theme in themes_to_test:\n",
    "        config.update_theme(theme)\n",
    "        assert config.theme == theme, f\"Theme not updated to {theme}\"\n",
    "        print(f\"Successfully updated to {theme} theme\")\n",
    "        \n",
    "        # Print some theme-specific settings that should have changed\n",
    "        print(f\"Current settings for {theme}:\")\n",
    "        print(f\"- Color scheme: {config.color_scheme}\")\n",
    "        print(f\"- Grid settings: {config.grid_settings}\")\n",
    "        print(\"---\")\n",
    "\n",
    "test_theme_updates()"
   ]
  },
  {
   "cell_type": "markdown",
   "metadata": {},
   "source": [
    "## 4. Serialization Tests\n",
    "Testing configuration serialization and deserialization.\n"
   ]
  },
  {
   "cell_type": "code",
   "execution_count": null,
   "metadata": {},
   "outputs": [],
   "source": [
    "def test_serialization():\n",
    "    \"\"\"Test configuration serialization and deserialization\"\"\"\n",
    "    # Create config with custom settings\n",
    "    original_config = VisualizationConfig(\n",
    "        color_scheme={'bullish': '#00ff00', 'bearish': '#ff0000'},\n",
    "        theme='plotly_dark',\n",
    "        default_height=1000,\n",
    "        default_width=1500\n",
    "    )\n",
    "    \n",
    "    # Convert to dictionary\n",
    "    config_dict = original_config.to_dict()\n",
    "    \n",
    "    # Create new config from dictionary\n",
    "    restored_config = VisualizationConfig.from_dict(config_dict)\n",
    "    \n",
    "    # Verify all settings match\n",
    "    assert restored_config.color_scheme == original_config.color_scheme, \"Color scheme mismatch\"\n",
    "    assert restored_config.theme == original_config.theme, \"Theme mismatch\"\n",
    "    assert restored_config.default_height == original_config.default_height, \"Height mismatch\"\n",
    "    assert restored_config.default_width == original_config.default_width, \"Width mismatch\"\n",
    "    \n",
    "    print(\"Serialization test passed!\")\n",
    "    print(\"\\nOriginal config:\", asdict(original_config))\n",
    "    print(\"\\nRestored config:\", asdict(restored_config))\n",
    "\n",
    "test_serialization()"
   ]
  },
  {
   "cell_type": "markdown",
   "metadata": {},
   "source": [
    "## 5. Font Settings Tests\n",
    "Testing font configuration and updates."
   ]
  },
  {
   "cell_type": "code",
   "execution_count": null,
   "metadata": {},
   "outputs": [],
   "source": [
    "def test_font_settings():\n",
    "    \"\"\"Test font settings configuration\"\"\"\n",
    "    custom_fonts = {\n",
    "        'family': 'Helvetica, sans-serif',\n",
    "        'sizes': {\n",
    "            'title': 18,\n",
    "            'subtitle': 16,\n",
    "            'axis': 14,\n",
    "            'label': 12,\n",
    "            'annotation': 10\n",
    "        },\n",
    "        'weights': {\n",
    "            'title': 'bold',\n",
    "            'subtitle': 'normal',\n",
    "            'axis': 'normal',\n",
    "            'label': 'normal'\n",
    "        }\n",
    "    }\n",
    "    \n",
    "    config = VisualizationConfig()\n",
    "    config.fonts = custom_fonts\n",
    "    \n",
    "    # Verify font settings\n",
    "    assert config.fonts['family'] == custom_fonts['family'], \"Font family not set correctly\"\n",
    "    assert config.fonts['sizes'] == custom_fonts['sizes'], \"Font sizes not set correctly\"\n",
    "    assert config.fonts['weights'] == custom_fonts['weights'], \"Font weights not set correctly\"\n",
    "    \n",
    "    print(\"Font settings test passed!\")\n",
    "    print(\"\\nCurrent font configuration:\")\n",
    "    for key, value in config.fonts.items():\n",
    "        print(f\"{key}:\", value)\n",
    "\n",
    "test_font_settings()"
   ]
  },
  {
   "cell_type": "markdown",
   "metadata": {},
   "source": [
    "## 6. Layout Settings Tests\n",
    "Testing layout configuration and validation."
   ]
  },
  {
   "cell_type": "code",
   "execution_count": null,
   "metadata": {},
   "outputs": [],
   "source": [
    "def test_layout_settings():\n",
    "    \"\"\"Test layout settings configuration\"\"\"\n",
    "    custom_layout = {\n",
    "        'padding': {\n",
    "            'top': 50,\n",
    "            'right': 50,\n",
    "            'bottom': 50,\n",
    "            'left': 70\n",
    "        },\n",
    "        'spacing': {\n",
    "            'vertical': 0.15,\n",
    "            'horizontal': 0.15\n",
    "        },\n",
    "        'legend': {\n",
    "            'position': 'bottom',\n",
    "            'orientation': 'vertical'\n",
    "        }\n",
    "    }\n",
    "    \n",
    "    config = VisualizationConfig()\n",
    "    config.layout = custom_layout\n",
    "    \n",
    "    # Verify layout settings\n",
    "    assert config.layout['padding'] == custom_layout['padding'], \"Padding settings not correct\"\n",
    "    assert config.layout['spacing'] == custom_layout['spacing'], \"Spacing settings not correct\"\n",
    "    assert config.layout['legend'] == custom_layout['legend'], \"Legend settings not correct\"\n",
    "    \n",
    "    print(\"Layout settings test passed!\")\n",
    "    print(\"\\nCurrent layout configuration:\")\n",
    "    for key, value in config.layout.items():\n",
    "        print(f\"{key}:\", value)\n",
    "\n",
    "test_layout_settings()"
   ]
  },
  {
   "cell_type": "markdown",
   "metadata": {},
   "source": [
    "## 7. Grid Settings Tests\n",
    "Testing grid configuration and updates."
   ]
  },
  {
   "cell_type": "code",
   "execution_count": null,
   "metadata": {},
   "outputs": [],
   "source": [
    "def test_grid_settings():\n",
    "    \"\"\"Test grid settings configuration\"\"\"\n",
    "    custom_grid = {\n",
    "        'color': '#dedede',\n",
    "        'opacity': 0.7,\n",
    "        'width': 1.5,\n",
    "        'style': 'solid'\n",
    "    }\n",
    "    \n",
    "    config = VisualizationConfig()\n",
    "    config.grid_settings = custom_grid\n",
    "    \n",
    "    # Verify grid settings\n",
    "    assert config.grid_settings == custom_grid, \"Grid settings not set correctly\"\n",
    "    \n",
    "    # Test grid visibility toggle\n",
    "    config.show_grid = False\n",
    "    assert not config.show_grid, \"Grid visibility not toggled correctly\"\n",
    "    \n",
    "    print(\"Grid settings test passed!\")\n",
    "    print(\"\\nCurrent grid configuration:\")\n",
    "    for key, value in config.grid_settings.items():\n",
    "        print(f\"{key}:\", value)\n",
    "\n",
    "test_grid_settings()"
   ]
  },
  {
   "cell_type": "markdown",
   "metadata": {},
   "source": [
    "## 8. Interactive Settings Tests\n",
    "Testing interactive feature configuration."
   ]
  },
  {
   "cell_type": "code",
   "execution_count": null,
   "metadata": {},
   "outputs": [],
   "source": [
    "def test_interactive_settings():\n",
    "    \"\"\"Test interactive settings configuration\"\"\"\n",
    "    custom_interactive = {\n",
    "        'enabled': True,\n",
    "        'animation': {\n",
    "            'duration': 750,\n",
    "            'easing': 'cubic-bezier(0.4, 0, 0.2, 1)',\n",
    "            'on_load': True\n",
    "        },\n",
    "        'tooltip': {\n",
    "            'enabled': True,\n",
    "            'background_color': 'rgba(255, 255, 255, 0.9)',\n",
    "            'border_color': '#888888'\n",
    "        }\n",
    "    }\n",
    "    \n",
    "    config = VisualizationConfig()\n",
    "    config.interactive_settings = custom_interactive\n",
    "    \n",
    "    # Verify interactive settings\n",
    "    assert config.interactive_settings == custom_interactive, \"Interactive settings not set correctly\"\n",
    "    \n",
    "    print(\"Interactive settings test passed!\")\n",
    "    print(\"\\nCurrent interactive configuration:\")\n",
    "    for key, value in config.interactive_settings.items():\n",
    "        print(f\"{key}:\", value)\n",
    "\n",
    "test_interactive_settings()"
   ]
  },
  {
   "cell_type": "markdown",
   "metadata": {},
   "source": [
    "## 9. Comprehensive Configuration Test\n",
    "Testing all settings together in a real-world scenario."
   ]
  },
  {
   "cell_type": "code",
   "execution_count": null,
   "metadata": {},
   "outputs": [],
   "source": [
    "def test_comprehensive_config():\n",
    "    \"\"\"Test comprehensive configuration setup\"\"\"\n",
    "    # Create a complete custom configuration\n",
    "    config = VisualizationConfig(\n",
    "        color_scheme={\n",
    "            'bullish': '#2ecc71',\n",
    "            'bearish': '#e74c3c',\n",
    "            'neutral': '#3498db',\n",
    "            'complex': '#9b59b6',\n",
    "            'background': '#ffffff',\n",
    "            'text': '#2c3e50'\n",
    "        },\n",
    "        theme='plotly_white',\n",
    "        default_height=800,\n",
    "        default_width=1200,\n",
    "        pattern_opacity=0.7,\n",
    "        show_grid=True,\n",
    "        annotation_font_size=10\n",
    "    )\n",
    "    \n",
    "    # Update additional settings\n",
    "    config.fonts['family'] = 'Roboto, sans-serif'\n",
    "    config.layout['padding']['top'] = 45\n",
    "    config.grid_settings['opacity'] = 0.6\n",
    "    config.interactive_settings['animation']['duration'] = 600\n",
    "    \n",
    "    # Verify all settings are correct\n",
    "    print(\"Comprehensive configuration test results:\")\n",
    "    print(\"\\nColor scheme:\", config.color_scheme)\n",
    "    print(\"\\nTheme:\", config.theme)\n",
    "    print(\"\\nDimensions:\", config.default_width, \"x\", config.default_height)\n",
    "    print(\"\\nFont family:\", config.fonts['family'])\n",
    "    print(\"\\nGrid opacity:\", config.grid_settings['opacity'])\n",
    "    print(\"\\nAnimation duration:\", config.interactive_settings['animation']['duration'])\n",
    "\n",
    "test_comprehensive_config()"
   ]
  }
 ],
 "metadata": {
  "kernelspec": {
   "display_name": "base",
   "language": "python",
   "name": "python3"
  },
  "language_info": {
   "name": "python",
   "version": "3.12.7"
  }
 },
 "nbformat": 4,
 "nbformat_minor": 2
}
