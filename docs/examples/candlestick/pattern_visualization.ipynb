{
 "cells": [
  {
   "cell_type": "markdown",
   "metadata": {},
   "source": [
    "# Test Environment Setup\n",
    "## 1. Required Imports and Package Installation"
   ]
  },
  {
   "cell_type": "code",
   "execution_count": 2,
   "metadata": {},
   "outputs": [],
   "source": [
    "# Install required packages if not already installed\n",
    "import sys\n",
    "import subprocess\n",
    "import pkg_resources\n",
    "\n",
    "required_packages = ['yfinance', 'pandas', 'numpy', 'plotly']\n",
    "\n",
    "def install_if_needed(packages):\n",
    "    \"\"\"Install packages if they're not already installed\"\"\"\n",
    "    installed = {pkg.key for pkg in pkg_resources.working_set}\n",
    "    for package in packages:\n",
    "        if package.lower() not in installed:\n",
    "            print(f\"Installing {package}...\")\n",
    "            subprocess.check_call([sys.executable, '-m', 'pip', 'install', package])\n",
    "\n",
    "install_if_needed(required_packages)\n",
    "\n",
    "# Now import required packages\n",
    "import yfinance as yf\n",
    "import pandas as pd\n",
    "import numpy as np\n",
    "import plotly.graph_objects as go\n",
    "from datetime import datetime, timedelta\n",
    "import time\n",
    "import threading"
   ]
  },
  {
   "cell_type": "markdown",
   "metadata": {},
   "source": [
    "## 2. Import Visualization Classes\n",
    "We need to import the visualization classes correctly. Let's check the current directory structure and add the necessary path:\n"
   ]
  },
  {
   "cell_type": "code",
   "execution_count": 3,
   "metadata": {},
   "outputs": [
    {
     "name": "stdout",
     "output_type": "stream",
     "text": [
      "Current working directory: c:\\Apoorv\\Projects\\patternforge\\docs\\examples\\candlestick\n",
      "\n",
      "Directory contents: ['advanced_pattern_analysis.ipynb', 'basic_pattern_detection.ipynb', 'pattern_visualization.ipynb']\n",
      "\n",
      "Error importing visualization classes: No module named 'patternforge'\n",
      "\n",
      "Make sure the patternforge package is properly installed or in the correct location.\n"
     ]
    }
   ],
   "source": [
    "import os\n",
    "\n",
    "# Print current directory structure\n",
    "print(\"Current working directory:\", os.getcwd())\n",
    "print(\"\\nDirectory contents:\", os.listdir())\n",
    "\n",
    "# Add the parent directory to system path if needed\n",
    "current_dir = os.getcwd()\n",
    "parent_dir = os.path.dirname(current_dir)\n",
    "if parent_dir not in sys.path:\n",
    "    sys.path.append(parent_dir)\n",
    "\n",
    "# Now try to import the visualization classes\n",
    "try:\n",
    "    from patternforge.visualization import (\n",
    "        VisualizationConfig,\n",
    "        VisualizationCache,\n",
    "        BaseVisualizationSettings\n",
    "    )\n",
    "    print(\"\\nSuccessfully imported visualization classes!\")\n",
    "except ImportError as e:\n",
    "    print(\"\\nError importing visualization classes:\", str(e))\n",
    "    print(\"\\nMake sure the patternforge package is properly installed or in the correct location.\")"
   ]
  },
  {
   "cell_type": "code",
   "execution_count": 4,
   "metadata": {},
   "outputs": [
    {
     "name": "stdout",
     "output_type": "stream",
     "text": [
      "Added to path: c:\\Apoorv\\Projects\\patternforge\n"
     ]
    },
    {
     "ename": "NameError",
     "evalue": "name 'Figure' is not defined",
     "output_type": "error",
     "traceback": [
      "\u001b[1;31m---------------------------------------------------------------------------\u001b[0m",
      "\u001b[1;31mNameError\u001b[0m                                 Traceback (most recent call last)",
      "\u001b[1;32m~\\AppData\\Local\\Temp\\ipykernel_34312\\4147093700.py\u001b[0m in \u001b[0;36m?\u001b[1;34m()\u001b[0m\n\u001b[0;32m     13\u001b[0m         \u001b[0mVisualizationCache\u001b[0m\u001b[1;33m,\u001b[0m\u001b[1;33m\u001b[0m\u001b[1;33m\u001b[0m\u001b[0m\n\u001b[0;32m     14\u001b[0m         \u001b[0mBaseVisualizationSettings\u001b[0m\u001b[1;33m\u001b[0m\u001b[1;33m\u001b[0m\u001b[0m\n\u001b[0;32m     15\u001b[0m     \u001b[1;33m)\u001b[0m\u001b[1;33m\u001b[0m\u001b[1;33m\u001b[0m\u001b[0m\n\u001b[0;32m     16\u001b[0m     \u001b[0mprint\u001b[0m\u001b[1;33m(\u001b[0m\u001b[1;34m\"Successfully imported visualization classes!\"\u001b[0m\u001b[1;33m)\u001b[0m\u001b[1;33m\u001b[0m\u001b[1;33m\u001b[0m\u001b[0m\n\u001b[1;32m---> 17\u001b[1;33m \u001b[1;32mexcept\u001b[0m \u001b[0mImportError\u001b[0m \u001b[1;32mas\u001b[0m \u001b[0me\u001b[0m\u001b[1;33m:\u001b[0m\u001b[1;33m\u001b[0m\u001b[1;33m\u001b[0m\u001b[0m\n\u001b[0m\u001b[0;32m     18\u001b[0m     \u001b[0mprint\u001b[0m\u001b[1;33m(\u001b[0m\u001b[1;34m\"Import error:\"\u001b[0m\u001b[1;33m,\u001b[0m \u001b[0mstr\u001b[0m\u001b[1;33m(\u001b[0m\u001b[0me\u001b[0m\u001b[1;33m)\u001b[0m\u001b[1;33m)\u001b[0m\u001b[1;33m\u001b[0m\u001b[1;33m\u001b[0m\u001b[0m\n",
      "\u001b[1;32mc:\\Apoorv\\Projects\\patternforge\\patternforge\\__init__.py\u001b[0m in \u001b[0;36m?\u001b[1;34m()\u001b[0m\n\u001b[1;32m----> 1\u001b[1;33m \u001b[1;32mfrom\u001b[0m \u001b[1;33m.\u001b[0m\u001b[0mcandlestick\u001b[0m\u001b[1;33m.\u001b[0m\u001b[0mvisualization\u001b[0m \u001b[1;32mimport\u001b[0m \u001b[0mCandlestickVisualizer\u001b[0m\u001b[1;33m,\u001b[0m \u001b[0mVisualizationConfig\u001b[0m\u001b[1;33m\u001b[0m\u001b[1;33m\u001b[0m\u001b[0m\n\u001b[0m\u001b[0;32m      2\u001b[0m \u001b[1;32mfrom\u001b[0m \u001b[1;33m.\u001b[0m\u001b[0mcandlestick\u001b[0m\u001b[1;33m.\u001b[0m\u001b[0mpatterns\u001b[0m \u001b[1;32mimport\u001b[0m \u001b[0mCandlestickPatterns\u001b[0m\u001b[1;33m\u001b[0m\u001b[1;33m\u001b[0m\u001b[0m\n\u001b[0;32m      3\u001b[0m \u001b[1;33m\u001b[0m\u001b[0m\n\u001b[0;32m      4\u001b[0m \u001b[0m__all__\u001b[0m \u001b[1;33m=\u001b[0m \u001b[1;33m[\u001b[0m\u001b[1;34m'CandlestickVisualizer'\u001b[0m\u001b[1;33m,\u001b[0m \u001b[1;34m'CandlestickPatterns'\u001b[0m\u001b[1;33m,\u001b[0m \u001b[1;34m'VisualizationConfig'\u001b[0m\u001b[1;33m]\u001b[0m\u001b[1;33m\u001b[0m\u001b[1;33m\u001b[0m\u001b[0m\n",
      "\u001b[1;32mc:\\Apoorv\\Projects\\patternforge\\patternforge\\candlestick\\__init__.py\u001b[0m in \u001b[0;36m?\u001b[1;34m()\u001b[0m\n\u001b[1;32m----> 1\u001b[1;33m \u001b[1;32mfrom\u001b[0m \u001b[1;33m.\u001b[0m\u001b[0mvisualization\u001b[0m \u001b[1;32mimport\u001b[0m \u001b[0mCandlestickVisualizer\u001b[0m\u001b[1;33m,\u001b[0m \u001b[0mVisualizationConfig\u001b[0m\u001b[1;33m\u001b[0m\u001b[1;33m\u001b[0m\u001b[0m\n\u001b[0m\u001b[0;32m      2\u001b[0m \u001b[1;32mfrom\u001b[0m \u001b[1;33m.\u001b[0m\u001b[0mpatterns\u001b[0m \u001b[1;32mimport\u001b[0m \u001b[0mCandlestickPatterns\u001b[0m\u001b[1;33m\u001b[0m\u001b[1;33m\u001b[0m\u001b[0m\n\u001b[0;32m      3\u001b[0m \u001b[1;33m\u001b[0m\u001b[0m\n\u001b[0;32m      4\u001b[0m \u001b[0m__all__\u001b[0m \u001b[1;33m=\u001b[0m \u001b[1;33m[\u001b[0m\u001b[1;34m'CandlestickPatterns'\u001b[0m\u001b[1;33m,\u001b[0m \u001b[1;34m'CandlestickVisualizer'\u001b[0m\u001b[1;33m,\u001b[0m \u001b[1;34m'VisualizationConfig'\u001b[0m\u001b[1;33m]\u001b[0m\u001b[1;33m\u001b[0m\u001b[1;33m\u001b[0m\u001b[0m\n",
      "\u001b[1;32mc:\\Apoorv\\Projects\\patternforge\\patternforge\\candlestick\\visualization.py\u001b[0m in \u001b[0;36m?\u001b[1;34m()\u001b[0m\n\u001b[0;32m    712\u001b[0m \u001b[1;33m\u001b[0m\u001b[0m\n\u001b[0;32m    713\u001b[0m         \u001b[1;32mreturn\u001b[0m \u001b[0mfig\u001b[0m\u001b[1;33m\u001b[0m\u001b[1;33m\u001b[0m\u001b[0m\n\u001b[0;32m    714\u001b[0m \u001b[1;33m\u001b[0m\u001b[0m\n\u001b[0;32m    715\u001b[0m \u001b[1;33m\u001b[0m\u001b[0m\n\u001b[1;32m--> 716\u001b[1;33m \u001b[1;32mclass\u001b[0m \u001b[0mCandlestickVisualizer\u001b[0m\u001b[1;33m:\u001b[0m\u001b[1;33m\u001b[0m\u001b[1;33m\u001b[0m\u001b[0m\n\u001b[0m\u001b[0;32m    717\u001b[0m     \u001b[1;32mdef\u001b[0m \u001b[0m__init__\u001b[0m\u001b[1;33m(\u001b[0m\u001b[0mself\u001b[0m\u001b[1;33m,\u001b[0m \u001b[0mdf\u001b[0m\u001b[1;33m:\u001b[0m \u001b[0mpd\u001b[0m\u001b[1;33m.\u001b[0m\u001b[0mDataFrame\u001b[0m\u001b[1;33m,\u001b[0m \u001b[0mconfig\u001b[0m\u001b[1;33m:\u001b[0m \u001b[0mOptional\u001b[0m\u001b[1;33m[\u001b[0m\u001b[0mVisualizationConfig\u001b[0m\u001b[1;33m]\u001b[0m \u001b[1;33m=\u001b[0m \u001b[1;32mNone\u001b[0m\u001b[1;33m)\u001b[0m\u001b[1;33m:\u001b[0m\u001b[1;33m\u001b[0m\u001b[1;33m\u001b[0m\u001b[0m\n\u001b[0;32m    718\u001b[0m         \"\"\"\n\u001b[0;32m    719\u001b[0m         \u001b[0mInitialize\u001b[0m \u001b[0mvisualizer\u001b[0m \u001b[1;32mwith\u001b[0m \u001b[0mfinancial\u001b[0m \u001b[0mdata\u001b[0m \u001b[1;32mand\u001b[0m \u001b[0mconfiguration\u001b[0m\u001b[1;33m\u001b[0m\u001b[1;33m\u001b[0m\u001b[0m\n",
      "\u001b[1;32mc:\\Apoorv\\Projects\\patternforge\\patternforge\\candlestick\\visualization.py\u001b[0m in \u001b[0;36m?\u001b[1;34m()\u001b[0m\n",
      "\u001b[1;31mNameError\u001b[0m: name 'Figure' is not defined"
     ]
    }
   ],
   "source": [
    "import os\n",
    "import sys\n",
    "\n",
    "project_root = os.path.abspath(os.path.join(os.getcwd(), '..', '..', '..'))\n",
    "sys.path.append(project_root)\n",
    "\n",
    "print(\"Added to path:\", project_root)\n",
    "\n",
    "# Now try importing again\n",
    "try:\n",
    "    from patternforge.candlestick.visualization import (\n",
    "        VisualizationConfig,\n",
    "        VisualizationCache,\n",
    "        BaseVisualizationSettings\n",
    "    )\n",
    "    print(\"Successfully imported visualization classes!\")\n",
    "except ImportError as e:\n",
    "    print(\"Import error:\", str(e))"
   ]
  },
  {
   "cell_type": "markdown",
   "metadata": {},
   "source": [
    "# Testing VisualizationConfig Class\n",
    "## Overview\n",
    "This section of our notebook demonstrates comprehensive testing of the VisualizationConfig class from our technical analysis visualization library. We'll test each component systematically to ensure proper functionality.\n",
    "## Setup and Imports\n"
   ]
  },
  {
   "cell_type": "code",
   "execution_count": 1,
   "metadata": {},
   "outputs": [
    {
     "ename": "ModuleNotFoundError",
     "evalue": "No module named 'patternforge'",
     "output_type": "error",
     "traceback": [
      "\u001b[1;31m---------------------------------------------------------------------------\u001b[0m",
      "\u001b[1;31mModuleNotFoundError\u001b[0m                       Traceback (most recent call last)",
      "Cell \u001b[1;32mIn[1], line 10\u001b[0m\n\u001b[0;32m      7\u001b[0m \u001b[38;5;66;03m# Import our visualization module\u001b[39;00m\n\u001b[0;32m      8\u001b[0m \u001b[38;5;66;03m# Assuming the module is in parent directory\u001b[39;00m\n\u001b[0;32m      9\u001b[0m sys\u001b[38;5;241m.\u001b[39mpath\u001b[38;5;241m.\u001b[39mappend(\u001b[38;5;124m'\u001b[39m\u001b[38;5;124m..\u001b[39m\u001b[38;5;124m'\u001b[39m)\n\u001b[1;32m---> 10\u001b[0m \u001b[38;5;28;01mfrom\u001b[39;00m \u001b[38;5;21;01mpatternforge\u001b[39;00m\u001b[38;5;21;01m.\u001b[39;00m\u001b[38;5;21;01mvisualization\u001b[39;00m \u001b[38;5;28;01mimport\u001b[39;00m VisualizationConfig\n",
      "\u001b[1;31mModuleNotFoundError\u001b[0m: No module named 'patternforge'"
     ]
    }
   ],
   "source": [
    "import sys\n",
    "import pandas as pd\n",
    "import numpy as np\n",
    "from dataclasses import asdict\n",
    "from typing import Dict, Any\n",
    "\n",
    "# Import our visualization module\n",
    "# Assuming the module is in parent directory\n",
    "sys.path.append('..')\n",
    "from patternforge.visualization import VisualizationConfig"
   ]
  },
  {
   "cell_type": "markdown",
   "metadata": {},
   "source": [
    "## 1. Basic Initialization Tests\n",
    "Testing default initialization and custom configuration."
   ]
  },
  {
   "cell_type": "code",
   "execution_count": null,
   "metadata": {},
   "outputs": [],
   "source": [
    "def test_default_initialization():\n",
    "    \"\"\"Test VisualizationConfig initializes with default values\"\"\"\n",
    "    config = VisualizationConfig()\n",
    "    \n",
    "    # Test default values\n",
    "    print(\"Default color scheme:\", config.color_scheme)\n",
    "    print(\"Default theme:\", config.theme)\n",
    "    print(\"Default dimensions:\", config.default_height, config.default_width)\n",
    "    print(\"Default pattern opacity:\", config.pattern_opacity)\n",
    "    print(\"Default grid setting:\", config.show_grid)\n",
    "    \n",
    "    # Validate default color scheme contains required colors\n",
    "    required_colors = ['bullish', 'bearish', 'neutral', 'background', 'text']\n",
    "    missing_colors = [color for color in required_colors if color not in config.color_scheme]\n",
    "    assert not missing_colors, f\"Missing required colors: {missing_colors}\"\n",
    "\n",
    "test_default_initialization()"
   ]
  },
  {
   "cell_type": "markdown",
   "metadata": {},
   "source": [
    "## 2. Custom Color Scheme Tests\n",
    "Testing custom color scheme initialization and validation."
   ]
  },
  {
   "cell_type": "code",
   "execution_count": null,
   "metadata": {},
   "outputs": [],
   "source": [
    "def test_custom_color_scheme():\n",
    "    \"\"\"Test custom color scheme initialization\"\"\"\n",
    "    custom_colors = {\n",
    "        'bullish': '#00ff00',  # Green\n",
    "        'bearish': '#ff0000',  # Red\n",
    "        'neutral': '#0000ff',  # Blue\n",
    "        'complex': '#800080',  # Purple\n",
    "        'background': '#ffffff',  # White\n",
    "        'text': '#000000'  # Black\n",
    "    }\n",
    "    \n",
    "    config = VisualizationConfig(color_scheme=custom_colors)\n",
    "    \n",
    "    # Verify custom colors were set correctly\n",
    "    for color_name, color_value in custom_colors.items():\n",
    "        assert config.color_scheme[color_name] == color_value, \\\n",
    "            f\"Color {color_name} not set correctly\"\n",
    "    \n",
    "    print(\"Custom color scheme test passed!\")\n",
    "\n",
    "test_custom_color_scheme()"
   ]
  },
  {
   "cell_type": "markdown",
   "metadata": {},
   "source": [
    "## 3. Theme Update Tests\n",
    "Testing theme updating functionality.\n"
   ]
  },
  {
   "cell_type": "code",
   "execution_count": null,
   "metadata": {},
   "outputs": [],
   "source": [
    "def test_theme_updates():\n",
    "    \"\"\"Test theme updating functionality\"\"\"\n",
    "    config = VisualizationConfig()\n",
    "    \n",
    "    # Test different themes\n",
    "    themes_to_test = ['plotly_white', 'plotly_dark', 'seaborn']\n",
    "    \n",
    "    for theme in themes_to_test:\n",
    "        config.update_theme(theme)\n",
    "        assert config.theme == theme, f\"Theme not updated to {theme}\"\n",
    "        print(f\"Successfully updated to {theme} theme\")\n",
    "        \n",
    "        # Print some theme-specific settings that should have changed\n",
    "        print(f\"Current settings for {theme}:\")\n",
    "        print(f\"- Color scheme: {config.color_scheme}\")\n",
    "        print(f\"- Grid settings: {config.grid_settings}\")\n",
    "        print(\"---\")\n",
    "\n",
    "test_theme_updates()"
   ]
  },
  {
   "cell_type": "markdown",
   "metadata": {},
   "source": [
    "## 4. Serialization Tests\n",
    "Testing configuration serialization and deserialization.\n"
   ]
  },
  {
   "cell_type": "code",
   "execution_count": null,
   "metadata": {},
   "outputs": [],
   "source": [
    "def test_serialization():\n",
    "    \"\"\"Test configuration serialization and deserialization\"\"\"\n",
    "    # Create config with custom settings\n",
    "    original_config = VisualizationConfig(\n",
    "        color_scheme={'bullish': '#00ff00', 'bearish': '#ff0000'},\n",
    "        theme='plotly_dark',\n",
    "        default_height=1000,\n",
    "        default_width=1500\n",
    "    )\n",
    "    \n",
    "    # Convert to dictionary\n",
    "    config_dict = original_config.to_dict()\n",
    "    \n",
    "    # Create new config from dictionary\n",
    "    restored_config = VisualizationConfig.from_dict(config_dict)\n",
    "    \n",
    "    # Verify all settings match\n",
    "    assert restored_config.color_scheme == original_config.color_scheme, \"Color scheme mismatch\"\n",
    "    assert restored_config.theme == original_config.theme, \"Theme mismatch\"\n",
    "    assert restored_config.default_height == original_config.default_height, \"Height mismatch\"\n",
    "    assert restored_config.default_width == original_config.default_width, \"Width mismatch\"\n",
    "    \n",
    "    print(\"Serialization test passed!\")\n",
    "    print(\"\\nOriginal config:\", asdict(original_config))\n",
    "    print(\"\\nRestored config:\", asdict(restored_config))\n",
    "\n",
    "test_serialization()"
   ]
  },
  {
   "cell_type": "markdown",
   "metadata": {},
   "source": [
    "## 5. Font Settings Tests\n",
    "Testing font configuration and updates."
   ]
  },
  {
   "cell_type": "code",
   "execution_count": null,
   "metadata": {},
   "outputs": [],
   "source": [
    "def test_font_settings():\n",
    "    \"\"\"Test font settings configuration\"\"\"\n",
    "    custom_fonts = {\n",
    "        'family': 'Helvetica, sans-serif',\n",
    "        'sizes': {\n",
    "            'title': 18,\n",
    "            'subtitle': 16,\n",
    "            'axis': 14,\n",
    "            'label': 12,\n",
    "            'annotation': 10\n",
    "        },\n",
    "        'weights': {\n",
    "            'title': 'bold',\n",
    "            'subtitle': 'normal',\n",
    "            'axis': 'normal',\n",
    "            'label': 'normal'\n",
    "        }\n",
    "    }\n",
    "    \n",
    "    config = VisualizationConfig()\n",
    "    config.fonts = custom_fonts\n",
    "    \n",
    "    # Verify font settings\n",
    "    assert config.fonts['family'] == custom_fonts['family'], \"Font family not set correctly\"\n",
    "    assert config.fonts['sizes'] == custom_fonts['sizes'], \"Font sizes not set correctly\"\n",
    "    assert config.fonts['weights'] == custom_fonts['weights'], \"Font weights not set correctly\"\n",
    "    \n",
    "    print(\"Font settings test passed!\")\n",
    "    print(\"\\nCurrent font configuration:\")\n",
    "    for key, value in config.fonts.items():\n",
    "        print(f\"{key}:\", value)\n",
    "\n",
    "test_font_settings()"
   ]
  },
  {
   "cell_type": "markdown",
   "metadata": {},
   "source": [
    "## 6. Layout Settings Tests\n",
    "Testing layout configuration and validation."
   ]
  },
  {
   "cell_type": "code",
   "execution_count": null,
   "metadata": {},
   "outputs": [],
   "source": [
    "def test_layout_settings():\n",
    "    \"\"\"Test layout settings configuration\"\"\"\n",
    "    custom_layout = {\n",
    "        'padding': {\n",
    "            'top': 50,\n",
    "            'right': 50,\n",
    "            'bottom': 50,\n",
    "            'left': 70\n",
    "        },\n",
    "        'spacing': {\n",
    "            'vertical': 0.15,\n",
    "            'horizontal': 0.15\n",
    "        },\n",
    "        'legend': {\n",
    "            'position': 'bottom',\n",
    "            'orientation': 'vertical'\n",
    "        }\n",
    "    }\n",
    "    \n",
    "    config = VisualizationConfig()\n",
    "    config.layout = custom_layout\n",
    "    \n",
    "    # Verify layout settings\n",
    "    assert config.layout['padding'] == custom_layout['padding'], \"Padding settings not correct\"\n",
    "    assert config.layout['spacing'] == custom_layout['spacing'], \"Spacing settings not correct\"\n",
    "    assert config.layout['legend'] == custom_layout['legend'], \"Legend settings not correct\"\n",
    "    \n",
    "    print(\"Layout settings test passed!\")\n",
    "    print(\"\\nCurrent layout configuration:\")\n",
    "    for key, value in config.layout.items():\n",
    "        print(f\"{key}:\", value)\n",
    "\n",
    "test_layout_settings()"
   ]
  },
  {
   "cell_type": "markdown",
   "metadata": {},
   "source": [
    "## 7. Grid Settings Tests\n",
    "Testing grid configuration and updates."
   ]
  },
  {
   "cell_type": "code",
   "execution_count": null,
   "metadata": {},
   "outputs": [],
   "source": [
    "def test_grid_settings():\n",
    "    \"\"\"Test grid settings configuration\"\"\"\n",
    "    custom_grid = {\n",
    "        'color': '#dedede',\n",
    "        'opacity': 0.7,\n",
    "        'width': 1.5,\n",
    "        'style': 'solid'\n",
    "    }\n",
    "    \n",
    "    config = VisualizationConfig()\n",
    "    config.grid_settings = custom_grid\n",
    "    \n",
    "    # Verify grid settings\n",
    "    assert config.grid_settings == custom_grid, \"Grid settings not set correctly\"\n",
    "    \n",
    "    # Test grid visibility toggle\n",
    "    config.show_grid = False\n",
    "    assert not config.show_grid, \"Grid visibility not toggled correctly\"\n",
    "    \n",
    "    print(\"Grid settings test passed!\")\n",
    "    print(\"\\nCurrent grid configuration:\")\n",
    "    for key, value in config.grid_settings.items():\n",
    "        print(f\"{key}:\", value)\n",
    "\n",
    "test_grid_settings()"
   ]
  },
  {
   "cell_type": "markdown",
   "metadata": {},
   "source": [
    "## 8. Interactive Settings Tests\n",
    "Testing interactive feature configuration."
   ]
  },
  {
   "cell_type": "code",
   "execution_count": null,
   "metadata": {},
   "outputs": [],
   "source": [
    "def test_interactive_settings():\n",
    "    \"\"\"Test interactive settings configuration\"\"\"\n",
    "    custom_interactive = {\n",
    "        'enabled': True,\n",
    "        'animation': {\n",
    "            'duration': 750,\n",
    "            'easing': 'cubic-bezier(0.4, 0, 0.2, 1)',\n",
    "            'on_load': True\n",
    "        },\n",
    "        'tooltip': {\n",
    "            'enabled': True,\n",
    "            'background_color': 'rgba(255, 255, 255, 0.9)',\n",
    "            'border_color': '#888888'\n",
    "        }\n",
    "    }\n",
    "    \n",
    "    config = VisualizationConfig()\n",
    "    config.interactive_settings = custom_interactive\n",
    "    \n",
    "    # Verify interactive settings\n",
    "    assert config.interactive_settings == custom_interactive, \"Interactive settings not set correctly\"\n",
    "    \n",
    "    print(\"Interactive settings test passed!\")\n",
    "    print(\"\\nCurrent interactive configuration:\")\n",
    "    for key, value in config.interactive_settings.items():\n",
    "        print(f\"{key}:\", value)\n",
    "\n",
    "test_interactive_settings()"
   ]
  },
  {
   "cell_type": "markdown",
   "metadata": {},
   "source": [
    "## 9. Comprehensive Configuration Test\n",
    "Testing all settings together in a real-world scenario."
   ]
  },
  {
   "cell_type": "code",
   "execution_count": null,
   "metadata": {},
   "outputs": [],
   "source": [
    "def test_comprehensive_config():\n",
    "    \"\"\"Test comprehensive configuration setup\"\"\"\n",
    "    # Create a complete custom configuration\n",
    "    config = VisualizationConfig(\n",
    "        color_scheme={\n",
    "            'bullish': '#2ecc71',\n",
    "            'bearish': '#e74c3c',\n",
    "            'neutral': '#3498db',\n",
    "            'complex': '#9b59b6',\n",
    "            'background': '#ffffff',\n",
    "            'text': '#2c3e50'\n",
    "        },\n",
    "        theme='plotly_white',\n",
    "        default_height=800,\n",
    "        default_width=1200,\n",
    "        pattern_opacity=0.7,\n",
    "        show_grid=True,\n",
    "        annotation_font_size=10\n",
    "    )\n",
    "    \n",
    "    # Update additional settings\n",
    "    config.fonts['family'] = 'Roboto, sans-serif'\n",
    "    config.layout['padding']['top'] = 45\n",
    "    config.grid_settings['opacity'] = 0.6\n",
    "    config.interactive_settings['animation']['duration'] = 600\n",
    "    \n",
    "    # Verify all settings are correct\n",
    "    print(\"Comprehensive configuration test results:\")\n",
    "    print(\"\\nColor scheme:\", config.color_scheme)\n",
    "    print(\"\\nTheme:\", config.theme)\n",
    "    print(\"\\nDimensions:\", config.default_width, \"x\", config.default_height)\n",
    "    print(\"\\nFont family:\", config.fonts['family'])\n",
    "    print(\"\\nGrid opacity:\", config.grid_settings['opacity'])\n",
    "    print(\"\\nAnimation duration:\", config.interactive_settings['animation']['duration'])\n",
    "\n",
    "test_comprehensive_config()"
   ]
  },
  {
   "cell_type": "markdown",
   "metadata": {},
   "source": [
    "## Summary\n",
    "All tests have been completed successfully, verifying:\n",
    "\n",
    "**Default initialization**\\\n",
    "**Custom color schemes**\\\n",
    "**Theme updates**\\\n",
    "**Serialization**\\\n",
    "**Font settings**\\\n",
    "**Layout configuration**\\\n",
    "**Grid settings**\\\n",
    "**Interactive features**\\\n",
    "**Comprehensive configuration**\n",
    "\n",
    "The VisualizationConfig class provides a robust and flexible configuration system for our visualization library."
   ]
  },
  {
   "cell_type": "markdown",
   "metadata": {},
   "source": [
    "# Testing VisualizationCache Class\n",
    "## Overview\n",
    "This section of our notebook demonstrates comprehensive testing of the VisualizationCache class, which manages caching of visualization components for performance optimization.\n",
    "## Setup and Imports\n"
   ]
  },
  {
   "cell_type": "code",
   "execution_count": null,
   "metadata": {},
   "outputs": [],
   "source": [
    "import sys\n",
    "import time\n",
    "import threading\n",
    "import plotly.graph_objects as go\n",
    "import pandas as pd\n",
    "import numpy as np\n",
    "from datetime import datetime, timedelta\n",
    "\n",
    "# Import our visualization module\n",
    "sys.path.append('..')\n",
    "from patternforge.visualization import VisualizationCache"
   ]
  },
  {
   "cell_type": "markdown",
   "metadata": {},
   "source": [
    "## 1. Basic Cache Initialization Tests"
   ]
  },
  {
   "cell_type": "code",
   "execution_count": null,
   "metadata": {},
   "outputs": [],
   "source": [
    "def test_cache_initialization():\n",
    "    \"\"\"Test basic cache initialization and parameters\"\"\"\n",
    "    # Test default initialization\n",
    "    default_cache = VisualizationCache()\n",
    "    print(\"Default cache parameters:\")\n",
    "    print(f\"Max size: {default_cache.max_size}\")\n",
    "    print(f\"TTL: {default_cache.ttl}\")\n",
    "    \n",
    "    # Test custom initialization\n",
    "    custom_cache = VisualizationCache(max_size=50, ttl=1800)\n",
    "    print(\"\\nCustom cache parameters:\")\n",
    "    print(f\"Max size: {custom_cache.max_size}\")\n",
    "    print(f\"TTL: {custom_cache.ttl}\")\n",
    "    \n",
    "    # Verify internal structures\n",
    "    assert hasattr(custom_cache, '_cache'), \"Cache storage not initialized\"\n",
    "    assert hasattr(custom_cache, '_metadata'), \"Cache metadata not initialized\"\n",
    "    assert hasattr(custom_cache, '_lock'), \"Thread lock not initialized\"\n",
    "\n",
    "test_cache_initialization()"
   ]
  },
  {
   "cell_type": "markdown",
   "metadata": {},
   "source": [
    "## 2. Figure Caching and Retrieval Tests"
   ]
  },
  {
   "cell_type": "code",
   "execution_count": null,
   "metadata": {},
   "outputs": [],
   "source": [
    "def create_test_figure():\n",
    "    \"\"\"Helper function to create a test figure\"\"\"\n",
    "    fig = go.Figure(data=[go.Scatter(x=[1, 2, 3], y=[4, 5, 6])])\n",
    "    return fig\n",
    "\n",
    "def test_figure_caching():\n",
    "    \"\"\"Test caching and retrieving figures\"\"\"\n",
    "    cache = VisualizationCache(max_size=5, ttl=3600)\n",
    "    \n",
    "    # Create and cache test figure\n",
    "    test_fig = create_test_figure()\n",
    "    cache.cache_figure('test_key', test_fig)\n",
    "    \n",
    "    # Retrieve cached figure\n",
    "    retrieved_fig = cache.get_figure('test_key')\n",
    "    assert retrieved_fig is not None, \"Failed to retrieve cached figure\"\n",
    "    \n",
    "    # Test non-existent key\n",
    "    missing_fig = cache.get_figure('nonexistent_key')\n",
    "    assert missing_fig is None, \"Should return None for missing key\"\n",
    "    \n",
    "    print(\"Figure caching test passed!\")\n",
    "    print(\"\\nCache statistics:\")\n",
    "    print(cache.get_cache_stats())\n",
    "\n",
    "test_figure_caching()"
   ]
  },
  {
   "cell_type": "markdown",
   "metadata": {},
   "source": [
    "## 3. Cache Size Limit Tests"
   ]
  },
  {
   "cell_type": "code",
   "execution_count": null,
   "metadata": {},
   "outputs": [],
   "source": [
    "def test_cache_size_limits():\n",
    "    \"\"\"Test cache size limits and eviction\"\"\"\n",
    "    cache = VisualizationCache(max_size=3, ttl=3600)\n",
    "    \n",
    "    # Add figures up to and beyond limit\n",
    "    for i in range(5):\n",
    "        fig = create_test_figure()\n",
    "        cache.cache_figure(f'fig_{i}', fig)\n",
    "        print(f\"Added figure {i}\")\n",
    "        print(\"Current cache size:\", len(cache._cache))\n",
    "        \n",
    "    # Verify size limit is maintained\n",
    "    assert len(cache._cache) <= cache.max_size, \"Cache exceeded max size\"\n",
    "    \n",
    "    # Verify oldest items were evicted\n",
    "    assert 'fig_0' not in cache._cache, \"Oldest item not evicted\"\n",
    "    assert 'fig_1' not in cache._cache, \"Second oldest item not evicted\"\n",
    "    \n",
    "    print(\"\\nFinal cache contents:\")\n",
    "    print(\"Keys in cache:\", list(cache._cache.keys()))\n",
    "\n",
    "test_cache_size_limits()"
   ]
  },
  {
   "cell_type": "markdown",
   "metadata": {},
   "source": [
    "## 4. Cache TTL (Time to Live) Tests"
   ]
  },
  {
   "cell_type": "code",
   "execution_count": null,
   "metadata": {},
   "outputs": [],
   "source": [
    "def test_cache_ttl():\n",
    "    \"\"\"Test cache item expiration\"\"\"\n",
    "    cache = VisualizationCache(max_size=5, ttl=2)  # 2 second TTL for testing\n",
    "    \n",
    "    # Cache a test figure\n",
    "    test_fig = create_test_figure()\n",
    "    cache.cache_figure('ttl_test', test_fig)\n",
    "    \n",
    "    # Verify immediate retrieval works\n",
    "    assert cache.get_figure('ttl_test') is not None, \"Failed to retrieve fresh item\"\n",
    "    \n",
    "    # Wait for TTL to expire\n",
    "    print(\"Waiting for TTL to expire...\")\n",
    "    time.sleep(3)\n",
    "    \n",
    "    # Verify item has expired\n",
    "    expired_fig = cache.get_figure('ttl_test')\n",
    "    assert expired_fig is None, \"Item did not expire after TTL\"\n",
    "    \n",
    "    print(\"TTL test passed!\")\n",
    "\n",
    "test_cache_ttl()"
   ]
  },
  {
   "cell_type": "markdown",
   "metadata": {},
   "source": [
    "## 5. Thread Safety Tests"
   ]
  },
  {
   "cell_type": "code",
   "execution_count": null,
   "metadata": {},
   "outputs": [],
   "source": [
    "def test_thread_safety():\n",
    "    \"\"\"Test thread-safe operations\"\"\"\n",
    "    cache = VisualizationCache(max_size=10, ttl=3600)\n",
    "    \n",
    "    def cache_worker(worker_id):\n",
    "        \"\"\"Worker function for threading test\"\"\"\n",
    "        for i in range(3):\n",
    "            fig = create_test_figure()\n",
    "            key = f'worker_{worker_id}_fig_{i}'\n",
    "            cache.cache_figure(key, fig)\n",
    "            time.sleep(0.1)  # Simulate work\n",
    "            _ = cache.get_figure(key)\n",
    "    \n",
    "    # Create multiple threads\n",
    "    threads = []\n",
    "    for i in range(3):\n",
    "        thread = threading.Thread(target=cache_worker, args=(i,))\n",
    "        threads.append(thread)\n",
    "        thread.start()\n",
    "    \n",
    "    # Wait for all threads to complete\n",
    "    for thread in threads:\n",
    "        thread.join()\n",
    "    \n",
    "    print(\"Thread safety test completed\")\n",
    "    print(\"Final cache statistics:\")\n",
    "    print(cache.get_cache_stats())\n",
    "\n",
    "test_thread_safety()"
   ]
  },
  {
   "cell_type": "markdown",
   "metadata": {},
   "source": [
    "## 6. Cache Eviction Policy Tests"
   ]
  },
  {
   "cell_type": "code",
   "execution_count": null,
   "metadata": {},
   "outputs": [],
   "source": [
    "def test_cache_eviction():\n",
    "    \"\"\"Test cache eviction policies\"\"\"\n",
    "    cache = VisualizationCache(max_size=3, ttl=3600)\n",
    "    \n",
    "    # Test LRU (Least Recently Used) eviction\n",
    "    for i in range(3):\n",
    "        fig = create_test_figure()\n",
    "        cache.cache_figure(f'fig_{i}', fig)\n",
    "    \n",
    "    # Access middle item to update its \"recent-ness\"\n",
    "    _ = cache.get_figure('fig_1')\n",
    "    \n",
    "    # Add new item to trigger eviction\n",
    "    new_fig = create_test_figure()\n",
    "    cache.cache_figure('new_fig', new_fig)\n",
    "    \n",
    "    # Verify least recently used item was evicted\n",
    "    assert 'fig_0' not in cache._cache, \"LRU eviction failed\"\n",
    "    assert 'fig_1' in cache._cache, \"Recently used item incorrectly evicted\"\n",
    "    \n",
    "    print(\"Cache contents after eviction:\")\n",
    "    print(list(cache._cache.keys()))\n",
    "\n",
    "test_cache_eviction()"
   ]
  },
  {
   "cell_type": "markdown",
   "metadata": {},
   "source": [
    "## 7. Cache Statistics Tests"
   ]
  },
  {
   "cell_type": "code",
   "execution_count": null,
   "metadata": {},
   "outputs": [],
   "source": [
    "def test_cache_statistics():\n",
    "    \"\"\"Test cache statistics tracking\"\"\"\n",
    "    cache = VisualizationCache(max_size=5, ttl=3600)\n",
    "    \n",
    "    # Add some test figures\n",
    "    for i in range(3):\n",
    "        fig = create_test_figure()\n",
    "        cache.cache_figure(f'stats_fig_{i}', fig)\n",
    "    \n",
    "    # Perform some retrievals\n",
    "    _ = cache.get_figure('stats_fig_0')\n",
    "    _ = cache.get_figure('stats_fig_1')\n",
    "    _ = cache.get_figure('stats_fig_0')  # Access first item again\n",
    "    \n",
    "    # Get and verify statistics\n",
    "    stats = cache.get_cache_stats()\n",
    "    print(\"Cache Statistics:\")\n",
    "    print(f\"Item count: {stats['item_count']}\")\n",
    "    print(f\"Total size (bytes): {stats['total_size_bytes']}\")\n",
    "    print(f\"Hit count: {stats['hit_count']}\")\n",
    "    print(f\"Max size: {stats['max_size']}\")\n",
    "    print(f\"TTL: {stats['ttl']}\")\n",
    "\n",
    "test_cache_statistics()"
   ]
  },
  {
   "cell_type": "markdown",
   "metadata": {},
   "source": [
    "## 8. Memory Management Tests"
   ]
  },
  {
   "cell_type": "code",
   "execution_count": null,
   "metadata": {},
   "outputs": [],
   "source": [
    "def test_memory_management():\n",
    "    \"\"\"Test memory estimation and management\"\"\"\n",
    "    cache = VisualizationCache(max_size=5, ttl=3600)\n",
    "    \n",
    "    # Create figures of different sizes\n",
    "    small_fig = go.Figure(data=[go.Scatter(x=[1], y=[1])])\n",
    "    large_fig = go.Figure(data=[go.Scatter(x=range(1000), y=range(1000))])\n",
    "    \n",
    "    # Cache figures\n",
    "    cache.cache_figure('small_fig', small_fig)\n",
    "    cache.cache_figure('large_fig', large_fig)\n",
    "    \n",
    "    # Get size estimates\n",
    "    small_size = cache._estimate_figure_size(small_fig)\n",
    "    large_size = cache._estimate_figure_size(large_fig)\n",
    "    \n",
    "    print(\"Memory Estimates:\")\n",
    "    print(f\"Small figure size: {small_size} bytes\")\n",
    "    print(f\"Large figure size: {large_size} bytes\")\n",
    "    \n",
    "    # Verify size estimation is reasonable\n",
    "    assert large_size > small_size, \"Size estimation failed\"\n",
    "\n",
    "test_memory_management()"
   ]
  },
  {
   "cell_type": "markdown",
   "metadata": {},
   "source": [
    "## 9. Cache Cleanup Tests"
   ]
  },
  {
   "cell_type": "code",
   "execution_count": null,
   "metadata": {},
   "outputs": [],
   "source": [
    "def test_cache_cleanup():\n",
    "    \"\"\"Test cache cleanup operations\"\"\"\n",
    "    cache = VisualizationCache(max_size=5, ttl=1)\n",
    "    \n",
    "    # Add some test figures\n",
    "    for i in range(3):\n",
    "        fig = create_test_figure()\n",
    "        cache.cache_figure(f'cleanup_fig_{i}', fig)\n",
    "    \n",
    "    # Wait for TTL to expire\n",
    "    time.sleep(2)\n",
    "    \n",
    "    # Add new figure to trigger cleanup\n",
    "    new_fig = create_test_figure()\n",
    "    cache.cache_figure('new_fig', new_fig)\n",
    "    \n",
    "    # Verify expired items were cleaned up\n",
    "    for i in range(3):\n",
    "        assert f'cleanup_fig_{i}' not in cache._cache, f\"Expired item {i} not cleaned up\"\n",
    "    \n",
    "    print(\"Cache cleanup test passed!\")\n",
    "    print(\"Remaining items:\", list(cache._cache.keys()))\n",
    "\n",
    "test_cache_cleanup()"
   ]
  },
  {
   "cell_type": "markdown",
   "metadata": {},
   "source": [
    "## 10. Comprehensive Cache Test"
   ]
  },
  {
   "cell_type": "code",
   "execution_count": null,
   "metadata": {},
   "outputs": [],
   "source": [
    "def test_comprehensive_cache():\n",
    "    \"\"\"Test all cache features together\"\"\"\n",
    "    cache = VisualizationCache(max_size=10, ttl=3600)\n",
    "    \n",
    "    # Test basic operations\n",
    "    for i in range(5):\n",
    "        fig = create_test_figure()\n",
    "        cache.cache_figure(f'test_fig_{i}', fig)\n",
    "        \n",
    "    # Test retrievals and updates\n",
    "    for i in range(3):\n",
    "        fig = cache.get_figure(f'test_fig_{i}')\n",
    "        assert fig is not None, f\"Failed to retrieve figure {i}\"\n",
    "    \n",
    "    # Test cache statistics\n",
    "    stats = cache.get_cache_stats()\n",
    "    \n",
    "    # Test cleanup\n",
    "    cache.clear()\n",
    "    \n",
    "    print(\"Comprehensive test results:\")\n",
    "    print(f\"Items before clear: {stats['item_count']}\")\n",
    "    print(f\"Items after clear: {len(cache._cache)}\")\n",
    "    print(\"All tests passed!\")\n",
    "\n",
    "test_comprehensive_cache()"
   ]
  },
  {
   "cell_type": "markdown",
   "metadata": {},
   "source": [
    "## Summary\n",
    "All tests have been completed successfully, verifying:\n",
    "\n",
    "**Cache initialization and configuration**\\\n",
    "**Figure storage and retrieval**\\\n",
    "**Size limits and TTL enforcement**\\\n",
    "**Thread safety**\\\n",
    "**Eviction policies**\\\n",
    "**Statistics tracking**\\\n",
    "**Memory management**\\\n",
    "**Cache cleanup operations**\n",
    "\n",
    "The VisualizationCache class provides robust caching functionality with proper thread safety and memory management features.\n",
    "\n"
   ]
  },
  {
   "cell_type": "markdown",
   "metadata": {},
   "source": [
    "# Testing BaseVisualizationSettings Class\n",
    "## 1. Setup and Imports\n"
   ]
  },
  {
   "cell_type": "code",
   "execution_count": null,
   "metadata": {},
   "outputs": [],
   "source": [
    "import sys\n",
    "import pandas as pd\n",
    "import numpy as np\n",
    "import plotly.graph_objects as go\n",
    "from plotly.subplots import make_subplots\n",
    "import yfinance as yf\n",
    "\n",
    "# Import our visualization classes\n",
    "from patternforge.visualization import (\n",
    "    BaseVisualizationSettings,\n",
    "    VisualizationConfig\n",
    ")\n",
    "\n",
    "# Get test data\n",
    "def get_test_data(symbol='AAPL', period='6mo', interval='1d'):\n",
    "    ticker = yf.Ticker(symbol)\n",
    "    df = ticker.history(period=period, interval=interval)\n",
    "    print(f\"Downloaded {len(df)} rows of {symbol} data\")\n",
    "    return df\n",
    "\n",
    "test_data = get_test_data()"
   ]
  },
  {
   "cell_type": "markdown",
   "metadata": {},
   "source": [
    "## 2. Basic Settings Initialization Tests"
   ]
  },
  {
   "cell_type": "code",
   "execution_count": null,
   "metadata": {},
   "outputs": [],
   "source": [
    "def test_base_settings_initialization():\n",
    "    \"\"\"Test basic initialization of BaseVisualizationSettings\"\"\"\n",
    "    # Test with default config\n",
    "    base_settings = BaseVisualizationSettings()\n",
    "    print(\"Default settings initialized\")\n",
    "    \n",
    "    # Test with custom config\n",
    "    custom_config = VisualizationConfig(\n",
    "        color_scheme={\n",
    "            'bullish': '#00ff00',\n",
    "            'bearish': '#ff0000',\n",
    "            'neutral': '#0000ff',\n",
    "            'background': '#ffffff',\n",
    "            'text': '#000000'\n",
    "        },\n",
    "        theme='plotly_dark'\n",
    "    )\n",
    "    custom_settings = BaseVisualizationSettings(custom_config)\n",
    "    print(\"\\nCustom settings initialized with:\")\n",
    "    print(f\"Theme: {custom_settings.config.theme}\")\n",
    "    print(f\"Color scheme: {custom_settings.config.color_scheme}\")\n",
    "\n",
    "test_base_settings_initialization()"
   ]
  },
  {
   "cell_type": "markdown",
   "metadata": {},
   "source": [
    "## 3. Layout Application Tests"
   ]
  },
  {
   "cell_type": "code",
   "execution_count": null,
   "metadata": {},
   "outputs": [],
   "source": [
    "def test_layout_application():\n",
    "    \"\"\"Test applying default layout to figures\"\"\"\n",
    "    base_settings = BaseVisualizationSettings()\n",
    "    \n",
    "    # Create test figure\n",
    "    fig = go.Figure(data=[\n",
    "        go.Candlestick(\n",
    "            x=test_data.index,\n",
    "            open=test_data['Open'],\n",
    "            high=test_data['High'],\n",
    "            low=test_data['Low'],\n",
    "            close=test_data['Close']\n",
    "        )\n",
    "    ])\n",
    "    \n",
    "    # Apply default layout\n",
    "    fig = base_settings.apply_default_layout(fig)\n",
    "    \n",
    "    print(\"Layout settings applied:\")\n",
    "    print(f\"Height: {fig.layout.height}\")\n",
    "    print(f\"Width: {fig.layout.width}\")\n",
    "    print(f\"Theme: {fig.layout.template}\")\n",
    "    print(f\"Show legend: {fig.layout.showlegend}\")\n",
    "    \n",
    "    # Show figure\n",
    "    fig.show()\n",
    "\n",
    "test_layout_application()"
   ]
  },
  {
   "cell_type": "markdown",
   "metadata": {},
   "source": [
    "## 4. Annotation Creation Tests"
   ]
  },
  {
   "cell_type": "code",
   "execution_count": null,
   "metadata": {},
   "outputs": [],
   "source": [
    "def test_annotation_creation():\n",
    "    \"\"\"Test creation of annotations with different styles\"\"\"\n",
    "    base_settings = BaseVisualizationSettings()\n",
    "    \n",
    "    # Create different types of annotations\n",
    "    standard_annotation = base_settings.create_annotation(\n",
    "        text=\"Standard Annotation\",\n",
    "        x=test_data.index[50],\n",
    "        y=test_data['High'][50]\n",
    "    )\n",
    "    \n",
    "    pattern_annotation = base_settings.create_annotation(\n",
    "        text=\"Pattern Detected\",\n",
    "        x=test_data.index[100],\n",
    "        y=test_data['High'][100],\n",
    "        is_pattern=True\n",
    "    )\n",
    "    \n",
    "    # Create figure with annotations\n",
    "    fig = go.Figure(data=[\n",
    "        go.Candlestick(\n",
    "            x=test_data.index,\n",
    "            open=test_data['Open'],\n",
    "            high=test_data['High'],\n",
    "            low=test_data['Low'],\n",
    "            close=test_data['Close']\n",
    "        )\n",
    "    ])\n",
    "    \n",
    "    fig.add_annotation(**standard_annotation)\n",
    "    fig.add_annotation(**pattern_annotation)\n",
    "    \n",
    "    print(\"Annotation settings:\")\n",
    "    print(\"\\nStandard annotation:\", standard_annotation)\n",
    "    print(\"\\nPattern annotation:\", pattern_annotation)\n",
    "    \n",
    "    # Show figure\n",
    "    fig.show()\n",
    "\n",
    "test_annotation_creation()"
   ]
  },
  {
   "cell_type": "markdown",
   "metadata": {},
   "source": [
    "## 5. Color Value Handling Tests"
   ]
  },
  {
   "cell_type": "code",
   "execution_count": null,
   "metadata": {},
   "outputs": [],
   "source": [
    "def test_color_value_handling():\n",
    "    \"\"\"Test color handling functionality\"\"\"\n",
    "    base_settings = BaseVisualizationSettings()\n",
    "    \n",
    "    # Test color for different values\n",
    "    bullish_color = base_settings.get_color_for_value(0.5, is_bullish=True)\n",
    "    bearish_color = base_settings.get_color_for_value(-0.5, is_bullish=True)\n",
    "    neutral_color = base_settings.get_color_for_value(0, is_bullish=True)\n",
    "    \n",
    "    print(\"Color assignments:\")\n",
    "    print(f\"Bullish move (0.5): {bullish_color}\")\n",
    "    print(f\"Bearish move (-0.5): {bearish_color}\")\n",
    "    print(f\"Neutral move (0): {neutral_color}\")\n",
    "    \n",
    "    # Create visualization of color assignments\n",
    "    fig = go.Figure(data=[\n",
    "        go.Bar(\n",
    "            x=['Bullish', 'Bearish', 'Neutral'],\n",
    "            y=[1, 1, 1],\n",
    "            marker_color=[bullish_color, bearish_color, neutral_color]\n",
    "        )\n",
    "    ])\n",
    "    \n",
    "    fig.update_layout(title=\"Color Value Visualization\")\n",
    "    fig.show()\n",
    "\n",
    "test_color_value_handling()"
   ]
  },
  {
   "cell_type": "markdown",
   "metadata": {},
   "source": [
    "## 6. Hover Template Tests"
   ]
  },
  {
   "cell_type": "code",
   "execution_count": null,
   "metadata": {},
   "outputs": [],
   "source": [
    "def test_hover_templates():\n",
    "    \"\"\"Test creation of hover templates\"\"\"\n",
    "    base_settings = BaseVisualizationSettings()\n",
    "    \n",
    "    # Create different hover templates\n",
    "    basic_template = base_settings.create_hover_template([\n",
    "        ('Open', '%{open}'),\n",
    "        ('Close', '%{close}')\n",
    "    ])\n",
    "    \n",
    "    detailed_template = base_settings.create_hover_template([\n",
    "        ('Open', '%{open}'),\n",
    "        ('High', '%{high}'),\n",
    "        ('Low', '%{low}'),\n",
    "        ('Close', '%{close}'),\n",
    "        ('Volume', '%{volume}')\n",
    "    ])\n",
    "    \n",
    "    # Create figure with hover templates\n",
    "    fig = go.Figure(data=[\n",
    "        go.Candlestick(\n",
    "            x=test_data.index,\n",
    "            open=test_data['Open'],\n",
    "            high=test_data['High'],\n",
    "            low=test_data['Low'],\n",
    "            close=test_data['Close'],\n",
    "            hovertemplate=detailed_template\n",
    "        )\n",
    "    ])\n",
    "    \n",
    "    print(\"Hover templates:\")\n",
    "    print(\"\\nBasic template:\", basic_template)\n",
    "    print(\"\\nDetailed template:\", detailed_template)\n",
    "    \n",
    "    fig.show()\n",
    "\n",
    "test_hover_templates()"
   ]
  },
  {
   "cell_type": "markdown",
   "metadata": {},
   "source": [
    "## 7. Range Selector Tests"
   ]
  },
  {
   "cell_type": "code",
   "execution_count": null,
   "metadata": {},
   "outputs": [],
   "source": [
    "def test_range_selector():\n",
    "    \"\"\"Test addition of range selector\"\"\"\n",
    "    base_settings = BaseVisualizationSettings()\n",
    "    \n",
    "    # Create figure\n",
    "    fig = go.Figure(data=[\n",
    "        go.Candlestick(\n",
    "            x=test_data.index,\n",
    "            open=test_data['Open'],\n",
    "            high=test_data['High'],\n",
    "            low=test_data['Low'],\n",
    "            close=test_data['Close']\n",
    "        )\n",
    "    ])\n",
    "    \n",
    "    # Add range selector\n",
    "    fig = base_settings.add_range_selector(fig)\n",
    "    \n",
    "    print(\"Range selector added to figure\")\n",
    "    fig.show()\n",
    "\n",
    "test_range_selector()"
   ]
  },
  {
   "cell_type": "markdown",
   "metadata": {},
   "source": [
    "## 8. Number Formatting Tests"
   ]
  },
  {
   "cell_type": "code",
   "execution_count": null,
   "metadata": {},
   "outputs": [],
   "source": [
    "def test_number_formatting():\n",
    "    \"\"\"Test number formatting functionality\"\"\"\n",
    "    base_settings = BaseVisualizationSettings()\n",
    "    \n",
    "    # Test different number formats\n",
    "    numbers = [\n",
    "        1234.5678,\n",
    "        1000000.12,\n",
    "        0.00123,\n",
    "        -5432.10\n",
    "    ]\n",
    "    \n",
    "    print(\"Number formatting examples:\")\n",
    "    for num in numbers:\n",
    "        # Test different precisions and formats\n",
    "        standard = base_settings.format_number(num)\n",
    "        currency = base_settings.format_number(num, prefix='$')\n",
    "        percentage = base_settings.format_number(num, suffix='%')\n",
    "        high_precision = base_settings.format_number(num, precision=4)\n",
    "        \n",
    "        print(f\"\\nOriginal: {num}\")\n",
    "        print(f\"Standard: {standard}\")\n",
    "        print(f\"Currency: {currency}\")\n",
    "        print(f\"Percentage: {percentage}\")\n",
    "        print(f\"High precision: {high_precision}\")\n",
    "\n",
    "test_number_formatting()"
   ]
  },
  {
   "cell_type": "markdown",
   "metadata": {},
   "source": [
    "## 9. Subplot Layout Tests"
   ]
  },
  {
   "cell_type": "code",
   "execution_count": null,
   "metadata": {},
   "outputs": [],
   "source": [
    "def test_subplot_layouts():\n",
    "    \"\"\"Test creation of subplot layouts\"\"\"\n",
    "    base_settings = BaseVisualizationSettings()\n",
    "    \n",
    "    # Create different subplot layouts\n",
    "    two_row_layout = base_settings.create_subplot_layout(\n",
    "        num_rows=2,\n",
    "        row_heights=[0.7, 0.3]\n",
    "    )\n",
    "    \n",
    "    three_row_layout = base_settings.create_subplot_layout(\n",
    "        num_rows=3,\n",
    "        row_heights=[0.5, 0.3, 0.2]\n",
    "    )\n",
    "    \n",
    "    # Create figure with subplots\n",
    "    fig = make_subplots(**three_row_layout)\n",
    "    \n",
    "    # Add traces\n",
    "    fig.add_trace(\n",
    "        go.Candlestick(\n",
    "            x=test_data.index,\n",
    "            open=test_data['Open'],\n",
    "            high=test_data['High'],\n",
    "            low=test_data['Low'],\n",
    "            close=test_data['Close']\n",
    "        ),\n",
    "        row=1, col=1\n",
    "    )\n",
    "    \n",
    "    fig.add_trace(\n",
    "        go.Bar(\n",
    "            x=test_data.index,\n",
    "            y=test_data['Volume'],\n",
    "            name='Volume'\n",
    "        ),\n",
    "        row=2, col=1\n",
    "    )\n",
    "    \n",
    "    print(\"Subplot layouts:\")\n",
    "    print(\"\\nTwo-row layout:\", two_row_layout)\n",
    "    print(\"\\nThree-row layout:\", three_row_layout)\n",
    "    \n",
    "    fig.show()\n",
    "\n",
    "test_subplot_layouts()"
   ]
  },
  {
   "cell_type": "markdown",
   "metadata": {},
   "source": [
    "## 10. Axis Styling Tests"
   ]
  },
  {
   "cell_type": "code",
   "execution_count": null,
   "metadata": {},
   "outputs": [],
   "source": [
    "def test_axis_styling():\n",
    "    \"\"\"Test axis styling functionality\"\"\"\n",
    "    base_settings = BaseVisualizationSettings()\n",
    "    \n",
    "    # Create figure with multiple axes\n",
    "    fig = make_subplots(rows=2, cols=1)\n",
    "    \n",
    "    # Add data\n",
    "    fig.add_trace(\n",
    "        go.Candlestick(\n",
    "            x=test_data.index,\n",
    "            open=test_data['Open'],\n",
    "            high=test_data['High'],\n",
    "            low=test_data['Low'],\n",
    "            close=test_data['Close']\n",
    "        ),\n",
    "        row=1, col=1\n",
    "    )\n",
    "    \n",
    "    fig.add_trace(\n",
    "        go.Bar(\n",
    "            x=test_data.index,\n",
    "            y=test_data['Volume'],\n",
    "            name='Volume'\n",
    "        ),\n",
    "        row=2, col=1\n",
    "    )\n",
    "    \n",
    "    # Apply axis styling\n",
    "    fig = base_settings.style_axis(fig, title='Price', row=1, axis='y')\n",
    "    fig = base_settings.style_axis(fig, title='Volume', row=2, axis='y')\n",
    "    fig = base_settings.style_axis(fig, title='Date', row=2, axis='x')\n",
    "    \n",
    "    print(\"Axis styling applied\")\n",
    "    fig.show()\n",
    "\n",
    "test_axis_styling()"
   ]
  },
  {
   "cell_type": "markdown",
   "metadata": {},
   "source": [
    "## Summary\n",
    "\n",
    "These tests verify the functionality of BaseVisualizationSettings including:\n",
    "\n",
    "**Initialization and configuration**\\\n",
    "**Layout application**\\\n",
    "**Annotation creation**\\\n",
    "**Color handling**\\\n",
    "**Hover templates**\\\n",
    "**Range selector functionality**\\\n",
    "**Number formatting**\\\n",
    "**Subplot layout creation**\\\n",
    "**Axis styling**\n",
    "\n",
    "Each test produces visual output to verify the settings are applied correctly."
   ]
  },
  {
   "cell_type": "markdown",
   "metadata": {},
   "source": []
  }
 ],
 "metadata": {
  "kernelspec": {
   "display_name": "base",
   "language": "python",
   "name": "python3"
  },
  "language_info": {
   "codemirror_mode": {
    "name": "ipython",
    "version": 3
   },
   "file_extension": ".py",
   "mimetype": "text/x-python",
   "name": "python",
   "nbconvert_exporter": "python",
   "pygments_lexer": "ipython3",
   "version": "3.12.7"
  }
 },
 "nbformat": 4,
 "nbformat_minor": 2
}
